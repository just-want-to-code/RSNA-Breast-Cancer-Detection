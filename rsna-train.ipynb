{
 "cells": [
  {
   "cell_type": "code",
   "execution_count": 1,
   "id": "2536e39f",
   "metadata": {
    "_cell_guid": "b1076dfc-b9ad-4769-8c92-a6c4dae69d19",
    "_uuid": "8f2839f25d086af736a60e9eeb907d3b93b6e0e5",
    "execution": {
     "iopub.execute_input": "2023-01-22T15:49:28.522381Z",
     "iopub.status.busy": "2023-01-22T15:49:28.521831Z",
     "iopub.status.idle": "2023-01-22T15:49:28.533131Z",
     "shell.execute_reply": "2023-01-22T15:49:28.532346Z"
    },
    "papermill": {
     "duration": 0.021976,
     "end_time": "2023-01-22T15:49:28.535289",
     "exception": false,
     "start_time": "2023-01-22T15:49:28.513313",
     "status": "completed"
    },
    "tags": []
   },
   "outputs": [],
   "source": [
    "# This Python 3 environment comes with many helpful analytics libraries installed\n",
    "# It is defined by the kaggle/python Docker image: https://github.com/kaggle/docker-python\n",
    "# For example, here's several helpful packages to load\n",
    "\n",
    "import numpy as np # linear algebra\n",
    "import pandas as pd # data processing, CSV file I/O (e.g. pd.read_csv)\n",
    "\n",
    "# Input data files are available in the read-only \"../input/\" directory\n",
    "# For example, running this (by clicking run or pressing Shift+Enter) will list all files under the input directory\n",
    "\n",
    "# import os\n",
    "# for dirname, _, filenames in os.walk('/kaggle/input'):\n",
    "#     for filename in filenames:\n",
    "\n",
    "#         print(os.path.join(dirname, filename))\n",
    "\n",
    "# You can write up to 20GB to the current directory (/kaggle/working/) that gets preserved as output when you create a version using \"Save & Run All\" \n",
    "# You can also write temporary files to /kaggle/temp/, but they won't be saved outside of the current session"
   ]
  },
  {
   "cell_type": "code",
   "execution_count": 2,
   "id": "2ae482d8",
   "metadata": {
    "execution": {
     "iopub.execute_input": "2023-01-22T15:49:28.547654Z",
     "iopub.status.busy": "2023-01-22T15:49:28.547402Z",
     "iopub.status.idle": "2023-01-22T15:49:32.889953Z",
     "shell.execute_reply": "2023-01-22T15:49:32.888975Z"
    },
    "papermill": {
     "duration": 4.351367,
     "end_time": "2023-01-22T15:49:32.892503",
     "exception": false,
     "start_time": "2023-01-22T15:49:28.541136",
     "status": "completed"
    },
    "tags": []
   },
   "outputs": [],
   "source": [
    "import os\n",
    "\n",
    "from sklearn import model_selection\n",
    "from sklearn.metrics import f1_score\n",
    "\n",
    "import torch\n",
    "from torch.utils.data import DataLoader, Dataset\n",
    "import torch.nn as nn\n",
    "from torch.optim import Adam\n",
    "from torch.optim.lr_scheduler import ExponentialLR\n",
    "from torch.optim.lr_scheduler import CosineAnnealingWarmRestarts\n",
    " \n",
    "import albumentations as A\n",
    "from albumentations.pytorch import ToTensorV2\n",
    "\n",
    "import pydicom\n",
    "import cv2\n",
    "from tqdm import tqdm"
   ]
  },
  {
   "cell_type": "code",
   "execution_count": 3,
   "id": "3efa4438",
   "metadata": {
    "execution": {
     "iopub.execute_input": "2023-01-22T15:49:32.905805Z",
     "iopub.status.busy": "2023-01-22T15:49:32.905360Z",
     "iopub.status.idle": "2023-01-22T15:49:34.621440Z",
     "shell.execute_reply": "2023-01-22T15:49:34.620282Z"
    },
    "papermill": {
     "duration": 1.7257,
     "end_time": "2023-01-22T15:49:34.624545",
     "exception": false,
     "start_time": "2023-01-22T15:49:32.898845",
     "status": "completed"
    },
    "tags": []
   },
   "outputs": [],
   "source": [
    "import sys\n",
    "sys.path.append('../input/timm-pytorch-image-models/pytorch-image-models-master')\n",
    "import timm"
   ]
  },
  {
   "cell_type": "code",
   "execution_count": 4,
   "id": "f398f5b8",
   "metadata": {
    "execution": {
     "iopub.execute_input": "2023-01-22T15:49:34.638832Z",
     "iopub.status.busy": "2023-01-22T15:49:34.638528Z",
     "iopub.status.idle": "2023-01-22T15:49:34.643794Z",
     "shell.execute_reply": "2023-01-22T15:49:34.642886Z"
    },
    "papermill": {
     "duration": 0.01528,
     "end_time": "2023-01-22T15:49:34.645860",
     "exception": false,
     "start_time": "2023-01-22T15:49:34.630580",
     "status": "completed"
    },
    "tags": []
   },
   "outputs": [],
   "source": [
    "class CFG:\n",
    "    model_name= 'convnext_tiny'\n",
    "    target_size= 2\n",
    "    lr= 1e-4\n",
    "    weight_decay= 1e-6\n",
    "    \n",
    "    T_0=10 \n",
    "    min_lr=1e-6\n",
    "    gradient_accumulation_steps=1\n",
    "    max_grad_norm=1000"
   ]
  },
  {
   "cell_type": "code",
   "execution_count": 5,
   "id": "2d72ffd4",
   "metadata": {
    "execution": {
     "iopub.execute_input": "2023-01-22T15:49:34.658297Z",
     "iopub.status.busy": "2023-01-22T15:49:34.658016Z",
     "iopub.status.idle": "2023-01-22T15:49:34.784199Z",
     "shell.execute_reply": "2023-01-22T15:49:34.783247Z"
    },
    "papermill": {
     "duration": 0.135762,
     "end_time": "2023-01-22T15:49:34.787025",
     "exception": false,
     "start_time": "2023-01-22T15:49:34.651263",
     "status": "completed"
    },
    "tags": []
   },
   "outputs": [
    {
     "data": {
      "text/html": [
       "<div>\n",
       "<style scoped>\n",
       "    .dataframe tbody tr th:only-of-type {\n",
       "        vertical-align: middle;\n",
       "    }\n",
       "\n",
       "    .dataframe tbody tr th {\n",
       "        vertical-align: top;\n",
       "    }\n",
       "\n",
       "    .dataframe thead th {\n",
       "        text-align: right;\n",
       "    }\n",
       "</style>\n",
       "<table border=\"1\" class=\"dataframe\">\n",
       "  <thead>\n",
       "    <tr style=\"text-align: right;\">\n",
       "      <th></th>\n",
       "      <th>site_id</th>\n",
       "      <th>patient_id</th>\n",
       "      <th>image_id</th>\n",
       "      <th>laterality</th>\n",
       "      <th>view</th>\n",
       "      <th>age</th>\n",
       "      <th>cancer</th>\n",
       "      <th>biopsy</th>\n",
       "      <th>invasive</th>\n",
       "      <th>BIRADS</th>\n",
       "      <th>implant</th>\n",
       "      <th>density</th>\n",
       "      <th>machine_id</th>\n",
       "      <th>difficult_negative_case</th>\n",
       "    </tr>\n",
       "  </thead>\n",
       "  <tbody>\n",
       "    <tr>\n",
       "      <th>0</th>\n",
       "      <td>2</td>\n",
       "      <td>10006</td>\n",
       "      <td>462822612</td>\n",
       "      <td>L</td>\n",
       "      <td>CC</td>\n",
       "      <td>61.0</td>\n",
       "      <td>0</td>\n",
       "      <td>0</td>\n",
       "      <td>0</td>\n",
       "      <td>NaN</td>\n",
       "      <td>0</td>\n",
       "      <td>NaN</td>\n",
       "      <td>29</td>\n",
       "      <td>False</td>\n",
       "    </tr>\n",
       "    <tr>\n",
       "      <th>1</th>\n",
       "      <td>2</td>\n",
       "      <td>10006</td>\n",
       "      <td>1459541791</td>\n",
       "      <td>L</td>\n",
       "      <td>MLO</td>\n",
       "      <td>61.0</td>\n",
       "      <td>0</td>\n",
       "      <td>0</td>\n",
       "      <td>0</td>\n",
       "      <td>NaN</td>\n",
       "      <td>0</td>\n",
       "      <td>NaN</td>\n",
       "      <td>29</td>\n",
       "      <td>False</td>\n",
       "    </tr>\n",
       "    <tr>\n",
       "      <th>2</th>\n",
       "      <td>2</td>\n",
       "      <td>10006</td>\n",
       "      <td>1864590858</td>\n",
       "      <td>R</td>\n",
       "      <td>MLO</td>\n",
       "      <td>61.0</td>\n",
       "      <td>0</td>\n",
       "      <td>0</td>\n",
       "      <td>0</td>\n",
       "      <td>NaN</td>\n",
       "      <td>0</td>\n",
       "      <td>NaN</td>\n",
       "      <td>29</td>\n",
       "      <td>False</td>\n",
       "    </tr>\n",
       "    <tr>\n",
       "      <th>3</th>\n",
       "      <td>2</td>\n",
       "      <td>10006</td>\n",
       "      <td>1874946579</td>\n",
       "      <td>R</td>\n",
       "      <td>CC</td>\n",
       "      <td>61.0</td>\n",
       "      <td>0</td>\n",
       "      <td>0</td>\n",
       "      <td>0</td>\n",
       "      <td>NaN</td>\n",
       "      <td>0</td>\n",
       "      <td>NaN</td>\n",
       "      <td>29</td>\n",
       "      <td>False</td>\n",
       "    </tr>\n",
       "    <tr>\n",
       "      <th>4</th>\n",
       "      <td>2</td>\n",
       "      <td>10011</td>\n",
       "      <td>220375232</td>\n",
       "      <td>L</td>\n",
       "      <td>CC</td>\n",
       "      <td>55.0</td>\n",
       "      <td>0</td>\n",
       "      <td>0</td>\n",
       "      <td>0</td>\n",
       "      <td>0.0</td>\n",
       "      <td>0</td>\n",
       "      <td>NaN</td>\n",
       "      <td>21</td>\n",
       "      <td>True</td>\n",
       "    </tr>\n",
       "  </tbody>\n",
       "</table>\n",
       "</div>"
      ],
      "text/plain": [
       "   site_id  patient_id    image_id laterality view   age  cancer  biopsy  \\\n",
       "0        2       10006   462822612          L   CC  61.0       0       0   \n",
       "1        2       10006  1459541791          L  MLO  61.0       0       0   \n",
       "2        2       10006  1864590858          R  MLO  61.0       0       0   \n",
       "3        2       10006  1874946579          R   CC  61.0       0       0   \n",
       "4        2       10011   220375232          L   CC  55.0       0       0   \n",
       "\n",
       "   invasive  BIRADS  implant density  machine_id  difficult_negative_case  \n",
       "0         0     NaN        0     NaN          29                    False  \n",
       "1         0     NaN        0     NaN          29                    False  \n",
       "2         0     NaN        0     NaN          29                    False  \n",
       "3         0     NaN        0     NaN          29                    False  \n",
       "4         0     0.0        0     NaN          21                     True  "
      ]
     },
     "execution_count": 5,
     "metadata": {},
     "output_type": "execute_result"
    }
   ],
   "source": [
    "train_csv= pd.read_csv('/kaggle/input/rsna-breast-cancer-detection/train.csv')\n",
    "train_csv.head()"
   ]
  },
  {
   "cell_type": "code",
   "execution_count": 6,
   "id": "8fb0afeb",
   "metadata": {
    "execution": {
     "iopub.execute_input": "2023-01-22T15:49:34.802418Z",
     "iopub.status.busy": "2023-01-22T15:49:34.800600Z",
     "iopub.status.idle": "2023-01-22T15:49:34.815286Z",
     "shell.execute_reply": "2023-01-22T15:49:34.814236Z"
    },
    "papermill": {
     "duration": 0.024395,
     "end_time": "2023-01-22T15:49:34.817652",
     "exception": false,
     "start_time": "2023-01-22T15:49:34.793257",
     "status": "completed"
    },
    "tags": []
   },
   "outputs": [
    {
     "data": {
      "text/plain": [
       "0    53548\n",
       "1     1158\n",
       "Name: cancer, dtype: int64"
      ]
     },
     "execution_count": 6,
     "metadata": {},
     "output_type": "execute_result"
    }
   ],
   "source": [
    "train_csv['cancer'].value_counts()"
   ]
  },
  {
   "cell_type": "code",
   "execution_count": 7,
   "id": "736ec3a8",
   "metadata": {
    "execution": {
     "iopub.execute_input": "2023-01-22T15:49:34.832014Z",
     "iopub.status.busy": "2023-01-22T15:49:34.831741Z",
     "iopub.status.idle": "2023-01-22T15:50:50.387220Z",
     "shell.execute_reply": "2023-01-22T15:50:50.385870Z"
    },
    "papermill": {
     "duration": 75.566561,
     "end_time": "2023-01-22T15:50:50.390066",
     "exception": false,
     "start_time": "2023-01-22T15:49:34.823505",
     "status": "completed"
    },
    "tags": []
   },
   "outputs": [],
   "source": [
    "path= '/kaggle/input/rsna-breast-cancer-256-pngs'\n",
    "for i in range(len(train_csv)):\n",
    "    s=str(train_csv.loc[i,'patient_id'])+'_'+str(train_csv.loc[i,'image_id'])+'.png'\n",
    "    img_path=os.path.join(path,s)\n",
    "    train_csv.loc[i,'img_path']= img_path"
   ]
  },
  {
   "cell_type": "code",
   "execution_count": 8,
   "id": "c648c70b",
   "metadata": {
    "execution": {
     "iopub.execute_input": "2023-01-22T15:50:50.405550Z",
     "iopub.status.busy": "2023-01-22T15:50:50.403880Z",
     "iopub.status.idle": "2023-01-22T15:50:50.446591Z",
     "shell.execute_reply": "2023-01-22T15:50:50.445693Z"
    },
    "papermill": {
     "duration": 0.052093,
     "end_time": "2023-01-22T15:50:50.448836",
     "exception": false,
     "start_time": "2023-01-22T15:50:50.396743",
     "status": "completed"
    },
    "tags": []
   },
   "outputs": [],
   "source": [
    "canc= train_csv[train_csv.cancer==1]\n",
    "noncanc= train_csv[train_csv.cancer==0]\n",
    "noncanc= noncanc.reset_index(drop=True)\n",
    "canc= canc.reset_index(drop= True)\n",
    "# from sklearn.utils import resample\n",
    "# canc_upsample = resample(canc,\n",
    "#              replace=True,\n",
    "#              n_samples=len(noncanc),\n",
    "#              random_state=42)\n",
    "\n",
    "new_df= pd.DataFrame()\n",
    "#new_df= pd.concat([canc_upsample, noncanc])\n",
    "#new_df= pd.concat([canc, noncanc[:1500]])\n",
    "new_df= train_csv\n",
    "new_df= new_df.sample(frac=1)\n",
    "new_df= new_df.reset_index(drop=True)"
   ]
  },
  {
   "cell_type": "code",
   "execution_count": 9,
   "id": "081c27a1",
   "metadata": {
    "execution": {
     "iopub.execute_input": "2023-01-22T15:50:50.462055Z",
     "iopub.status.busy": "2023-01-22T15:50:50.461759Z",
     "iopub.status.idle": "2023-01-22T15:50:50.505935Z",
     "shell.execute_reply": "2023-01-22T15:50:50.504907Z"
    },
    "papermill": {
     "duration": 0.053604,
     "end_time": "2023-01-22T15:50:50.508386",
     "exception": false,
     "start_time": "2023-01-22T15:50:50.454782",
     "status": "completed"
    },
    "tags": []
   },
   "outputs": [
    {
     "data": {
      "text/html": [
       "<div>\n",
       "<style scoped>\n",
       "    .dataframe tbody tr th:only-of-type {\n",
       "        vertical-align: middle;\n",
       "    }\n",
       "\n",
       "    .dataframe tbody tr th {\n",
       "        vertical-align: top;\n",
       "    }\n",
       "\n",
       "    .dataframe thead th {\n",
       "        text-align: right;\n",
       "    }\n",
       "</style>\n",
       "<table border=\"1\" class=\"dataframe\">\n",
       "  <thead>\n",
       "    <tr style=\"text-align: right;\">\n",
       "      <th></th>\n",
       "      <th>site_id</th>\n",
       "      <th>patient_id</th>\n",
       "      <th>image_id</th>\n",
       "      <th>laterality</th>\n",
       "      <th>view</th>\n",
       "      <th>age</th>\n",
       "      <th>cancer</th>\n",
       "      <th>biopsy</th>\n",
       "      <th>invasive</th>\n",
       "      <th>BIRADS</th>\n",
       "      <th>implant</th>\n",
       "      <th>density</th>\n",
       "      <th>machine_id</th>\n",
       "      <th>difficult_negative_case</th>\n",
       "      <th>img_path</th>\n",
       "      <th>group</th>\n",
       "    </tr>\n",
       "  </thead>\n",
       "  <tbody>\n",
       "    <tr>\n",
       "      <th>0</th>\n",
       "      <td>2</td>\n",
       "      <td>57789</td>\n",
       "      <td>255254701</td>\n",
       "      <td>L</td>\n",
       "      <td>MLO</td>\n",
       "      <td>49.0</td>\n",
       "      <td>0</td>\n",
       "      <td>0</td>\n",
       "      <td>0</td>\n",
       "      <td>NaN</td>\n",
       "      <td>0</td>\n",
       "      <td>NaN</td>\n",
       "      <td>48</td>\n",
       "      <td>False</td>\n",
       "      <td>/kaggle/input/rsna-breast-cancer-256-pngs/5778...</td>\n",
       "      <td>0</td>\n",
       "    </tr>\n",
       "    <tr>\n",
       "      <th>1</th>\n",
       "      <td>1</td>\n",
       "      <td>15361</td>\n",
       "      <td>1167501842</td>\n",
       "      <td>L</td>\n",
       "      <td>MLO</td>\n",
       "      <td>46.0</td>\n",
       "      <td>0</td>\n",
       "      <td>0</td>\n",
       "      <td>0</td>\n",
       "      <td>1.0</td>\n",
       "      <td>1</td>\n",
       "      <td>C</td>\n",
       "      <td>49</td>\n",
       "      <td>False</td>\n",
       "      <td>/kaggle/input/rsna-breast-cancer-256-pngs/1536...</td>\n",
       "      <td>0</td>\n",
       "    </tr>\n",
       "    <tr>\n",
       "      <th>2</th>\n",
       "      <td>2</td>\n",
       "      <td>22922</td>\n",
       "      <td>584307441</td>\n",
       "      <td>R</td>\n",
       "      <td>MLO</td>\n",
       "      <td>66.0</td>\n",
       "      <td>0</td>\n",
       "      <td>0</td>\n",
       "      <td>0</td>\n",
       "      <td>NaN</td>\n",
       "      <td>0</td>\n",
       "      <td>NaN</td>\n",
       "      <td>29</td>\n",
       "      <td>False</td>\n",
       "      <td>/kaggle/input/rsna-breast-cancer-256-pngs/2292...</td>\n",
       "      <td>0</td>\n",
       "    </tr>\n",
       "    <tr>\n",
       "      <th>3</th>\n",
       "      <td>1</td>\n",
       "      <td>38494</td>\n",
       "      <td>713816140</td>\n",
       "      <td>L</td>\n",
       "      <td>CC</td>\n",
       "      <td>73.0</td>\n",
       "      <td>0</td>\n",
       "      <td>0</td>\n",
       "      <td>0</td>\n",
       "      <td>2.0</td>\n",
       "      <td>0</td>\n",
       "      <td>B</td>\n",
       "      <td>93</td>\n",
       "      <td>False</td>\n",
       "      <td>/kaggle/input/rsna-breast-cancer-256-pngs/3849...</td>\n",
       "      <td>0</td>\n",
       "    </tr>\n",
       "    <tr>\n",
       "      <th>4</th>\n",
       "      <td>1</td>\n",
       "      <td>57790</td>\n",
       "      <td>1893007795</td>\n",
       "      <td>R</td>\n",
       "      <td>CC</td>\n",
       "      <td>56.0</td>\n",
       "      <td>0</td>\n",
       "      <td>0</td>\n",
       "      <td>0</td>\n",
       "      <td>2.0</td>\n",
       "      <td>0</td>\n",
       "      <td>B</td>\n",
       "      <td>49</td>\n",
       "      <td>False</td>\n",
       "      <td>/kaggle/input/rsna-breast-cancer-256-pngs/5779...</td>\n",
       "      <td>0</td>\n",
       "    </tr>\n",
       "  </tbody>\n",
       "</table>\n",
       "</div>"
      ],
      "text/plain": [
       "   site_id  patient_id    image_id laterality view   age  cancer  biopsy  \\\n",
       "0        2       57789   255254701          L  MLO  49.0       0       0   \n",
       "1        1       15361  1167501842          L  MLO  46.0       0       0   \n",
       "2        2       22922   584307441          R  MLO  66.0       0       0   \n",
       "3        1       38494   713816140          L   CC  73.0       0       0   \n",
       "4        1       57790  1893007795          R   CC  56.0       0       0   \n",
       "\n",
       "   invasive  BIRADS  implant density  machine_id  difficult_negative_case  \\\n",
       "0         0     NaN        0     NaN          48                    False   \n",
       "1         0     1.0        1       C          49                    False   \n",
       "2         0     NaN        0     NaN          29                    False   \n",
       "3         0     2.0        0       B          93                    False   \n",
       "4         0     2.0        0       B          49                    False   \n",
       "\n",
       "                                            img_path  group  \n",
       "0  /kaggle/input/rsna-breast-cancer-256-pngs/5778...      0  \n",
       "1  /kaggle/input/rsna-breast-cancer-256-pngs/1536...      0  \n",
       "2  /kaggle/input/rsna-breast-cancer-256-pngs/2292...      0  \n",
       "3  /kaggle/input/rsna-breast-cancer-256-pngs/3849...      0  \n",
       "4  /kaggle/input/rsna-breast-cancer-256-pngs/5779...      0  "
      ]
     },
     "execution_count": 9,
     "metadata": {},
     "output_type": "execute_result"
    }
   ],
   "source": [
    "group_kfold = model_selection.GroupShuffleSplit(n_splits=1,test_size= 0.1)\n",
    "for i, (train_index, test_index) in enumerate(group_kfold.split(new_df, new_df.cancer, new_df.patient_id)):\n",
    "    new_df.loc[train_index, 'group'] = i\n",
    "    new_df.loc[test_index , 'group'] = i+1\n",
    "\n",
    "new_df['group'] = new_df['group'].astype(int)\n",
    "new_df.head()"
   ]
  },
  {
   "cell_type": "code",
   "execution_count": 10,
   "id": "f086e0cc",
   "metadata": {
    "execution": {
     "iopub.execute_input": "2023-01-22T15:50:50.521925Z",
     "iopub.status.busy": "2023-01-22T15:50:50.521663Z",
     "iopub.status.idle": "2023-01-22T15:50:50.545643Z",
     "shell.execute_reply": "2023-01-22T15:50:50.544778Z"
    },
    "papermill": {
     "duration": 0.033262,
     "end_time": "2023-01-22T15:50:50.547756",
     "exception": false,
     "start_time": "2023-01-22T15:50:50.514494",
     "status": "completed"
    },
    "tags": []
   },
   "outputs": [],
   "source": [
    "train_df= new_df[new_df.group==0]\n",
    "test_df= new_df[new_df.group==1]\n",
    "\n",
    "train_df= train_df.reset_index(drop=True)\n",
    "test_df= test_df.reset_index(drop=True)"
   ]
  },
  {
   "cell_type": "code",
   "execution_count": 11,
   "id": "b47e49cb",
   "metadata": {
    "execution": {
     "iopub.execute_input": "2023-01-22T15:50:50.561751Z",
     "iopub.status.busy": "2023-01-22T15:50:50.561472Z",
     "iopub.status.idle": "2023-01-22T15:50:50.594098Z",
     "shell.execute_reply": "2023-01-22T15:50:50.593176Z"
    },
    "papermill": {
     "duration": 0.042309,
     "end_time": "2023-01-22T15:50:50.596262",
     "exception": false,
     "start_time": "2023-01-22T15:50:50.553953",
     "status": "completed"
    },
    "tags": []
   },
   "outputs": [
    {
     "data": {
      "text/html": [
       "<div>\n",
       "<style scoped>\n",
       "    .dataframe tbody tr th:only-of-type {\n",
       "        vertical-align: middle;\n",
       "    }\n",
       "\n",
       "    .dataframe tbody tr th {\n",
       "        vertical-align: top;\n",
       "    }\n",
       "\n",
       "    .dataframe thead th {\n",
       "        text-align: right;\n",
       "    }\n",
       "</style>\n",
       "<table border=\"1\" class=\"dataframe\">\n",
       "  <thead>\n",
       "    <tr style=\"text-align: right;\">\n",
       "      <th></th>\n",
       "      <th>site_id</th>\n",
       "      <th>patient_id</th>\n",
       "      <th>image_id</th>\n",
       "      <th>laterality</th>\n",
       "      <th>view</th>\n",
       "      <th>age</th>\n",
       "      <th>cancer</th>\n",
       "      <th>biopsy</th>\n",
       "      <th>invasive</th>\n",
       "      <th>BIRADS</th>\n",
       "      <th>implant</th>\n",
       "      <th>density</th>\n",
       "      <th>machine_id</th>\n",
       "      <th>difficult_negative_case</th>\n",
       "      <th>img_path</th>\n",
       "      <th>group</th>\n",
       "      <th>fold</th>\n",
       "    </tr>\n",
       "  </thead>\n",
       "  <tbody>\n",
       "    <tr>\n",
       "      <th>0</th>\n",
       "      <td>2</td>\n",
       "      <td>57789</td>\n",
       "      <td>255254701</td>\n",
       "      <td>L</td>\n",
       "      <td>MLO</td>\n",
       "      <td>49.0</td>\n",
       "      <td>0</td>\n",
       "      <td>0</td>\n",
       "      <td>0</td>\n",
       "      <td>NaN</td>\n",
       "      <td>0</td>\n",
       "      <td>NaN</td>\n",
       "      <td>48</td>\n",
       "      <td>False</td>\n",
       "      <td>/kaggle/input/rsna-breast-cancer-256-pngs/5778...</td>\n",
       "      <td>0</td>\n",
       "      <td>0</td>\n",
       "    </tr>\n",
       "    <tr>\n",
       "      <th>1</th>\n",
       "      <td>1</td>\n",
       "      <td>15361</td>\n",
       "      <td>1167501842</td>\n",
       "      <td>L</td>\n",
       "      <td>MLO</td>\n",
       "      <td>46.0</td>\n",
       "      <td>0</td>\n",
       "      <td>0</td>\n",
       "      <td>0</td>\n",
       "      <td>1.0</td>\n",
       "      <td>1</td>\n",
       "      <td>C</td>\n",
       "      <td>49</td>\n",
       "      <td>False</td>\n",
       "      <td>/kaggle/input/rsna-breast-cancer-256-pngs/1536...</td>\n",
       "      <td>0</td>\n",
       "      <td>0</td>\n",
       "    </tr>\n",
       "    <tr>\n",
       "      <th>2</th>\n",
       "      <td>2</td>\n",
       "      <td>22922</td>\n",
       "      <td>584307441</td>\n",
       "      <td>R</td>\n",
       "      <td>MLO</td>\n",
       "      <td>66.0</td>\n",
       "      <td>0</td>\n",
       "      <td>0</td>\n",
       "      <td>0</td>\n",
       "      <td>NaN</td>\n",
       "      <td>0</td>\n",
       "      <td>NaN</td>\n",
       "      <td>29</td>\n",
       "      <td>False</td>\n",
       "      <td>/kaggle/input/rsna-breast-cancer-256-pngs/2292...</td>\n",
       "      <td>0</td>\n",
       "      <td>0</td>\n",
       "    </tr>\n",
       "    <tr>\n",
       "      <th>3</th>\n",
       "      <td>1</td>\n",
       "      <td>38494</td>\n",
       "      <td>713816140</td>\n",
       "      <td>L</td>\n",
       "      <td>CC</td>\n",
       "      <td>73.0</td>\n",
       "      <td>0</td>\n",
       "      <td>0</td>\n",
       "      <td>0</td>\n",
       "      <td>2.0</td>\n",
       "      <td>0</td>\n",
       "      <td>B</td>\n",
       "      <td>93</td>\n",
       "      <td>False</td>\n",
       "      <td>/kaggle/input/rsna-breast-cancer-256-pngs/3849...</td>\n",
       "      <td>0</td>\n",
       "      <td>0</td>\n",
       "    </tr>\n",
       "    <tr>\n",
       "      <th>4</th>\n",
       "      <td>1</td>\n",
       "      <td>57790</td>\n",
       "      <td>1893007795</td>\n",
       "      <td>R</td>\n",
       "      <td>CC</td>\n",
       "      <td>56.0</td>\n",
       "      <td>0</td>\n",
       "      <td>0</td>\n",
       "      <td>0</td>\n",
       "      <td>2.0</td>\n",
       "      <td>0</td>\n",
       "      <td>B</td>\n",
       "      <td>49</td>\n",
       "      <td>False</td>\n",
       "      <td>/kaggle/input/rsna-breast-cancer-256-pngs/5779...</td>\n",
       "      <td>0</td>\n",
       "      <td>0</td>\n",
       "    </tr>\n",
       "  </tbody>\n",
       "</table>\n",
       "</div>"
      ],
      "text/plain": [
       "   site_id  patient_id    image_id laterality view   age  cancer  biopsy  \\\n",
       "0        2       57789   255254701          L  MLO  49.0       0       0   \n",
       "1        1       15361  1167501842          L  MLO  46.0       0       0   \n",
       "2        2       22922   584307441          R  MLO  66.0       0       0   \n",
       "3        1       38494   713816140          L   CC  73.0       0       0   \n",
       "4        1       57790  1893007795          R   CC  56.0       0       0   \n",
       "\n",
       "   invasive  BIRADS  implant density  machine_id  difficult_negative_case  \\\n",
       "0         0     NaN        0     NaN          48                    False   \n",
       "1         0     1.0        1       C          49                    False   \n",
       "2         0     NaN        0     NaN          29                    False   \n",
       "3         0     2.0        0       B          93                    False   \n",
       "4         0     2.0        0       B          49                    False   \n",
       "\n",
       "                                            img_path  group  fold  \n",
       "0  /kaggle/input/rsna-breast-cancer-256-pngs/5778...      0     0  \n",
       "1  /kaggle/input/rsna-breast-cancer-256-pngs/1536...      0     0  \n",
       "2  /kaggle/input/rsna-breast-cancer-256-pngs/2292...      0     0  \n",
       "3  /kaggle/input/rsna-breast-cancer-256-pngs/3849...      0     0  \n",
       "4  /kaggle/input/rsna-breast-cancer-256-pngs/5779...      0     0  "
      ]
     },
     "execution_count": 11,
     "metadata": {},
     "output_type": "execute_result"
    }
   ],
   "source": [
    "skf = model_selection.StratifiedKFold(n_splits=5)\n",
    "for i, (train_index, test_index) in enumerate(skf.split(train_df, train_df.cancer)):\n",
    "    train_df.loc[test_index,'fold']= i\n",
    "    \n",
    "train_df['fold']= train_df['fold'].astype(int)\n",
    "train_df.head()"
   ]
  },
  {
   "cell_type": "code",
   "execution_count": 12,
   "id": "469d8b2e",
   "metadata": {
    "execution": {
     "iopub.execute_input": "2023-01-22T15:50:50.611431Z",
     "iopub.status.busy": "2023-01-22T15:50:50.609956Z",
     "iopub.status.idle": "2023-01-22T15:50:50.628250Z",
     "shell.execute_reply": "2023-01-22T15:50:50.627194Z"
    },
    "papermill": {
     "duration": 0.027576,
     "end_time": "2023-01-22T15:50:50.630356",
     "exception": false,
     "start_time": "2023-01-22T15:50:50.602780",
     "status": "completed"
    },
    "tags": []
   },
   "outputs": [
    {
     "data": {
      "text/plain": [
       "fold  group  cancer\n",
       "0     0      0         9639\n",
       "             1          205\n",
       "1     0      0         9639\n",
       "             1          205\n",
       "2     0      0         9638\n",
       "             1          205\n",
       "3     0      0         9638\n",
       "             1          205\n",
       "4     0      0         9638\n",
       "             1          205\n",
       "Name: cancer, dtype: int64"
      ]
     },
     "execution_count": 12,
     "metadata": {},
     "output_type": "execute_result"
    }
   ],
   "source": [
    "train_df.groupby(['fold','group']).cancer.value_counts()"
   ]
  },
  {
   "cell_type": "code",
   "execution_count": 13,
   "id": "eebd4a51",
   "metadata": {
    "execution": {
     "iopub.execute_input": "2023-01-22T15:50:50.645419Z",
     "iopub.status.busy": "2023-01-22T15:50:50.644678Z",
     "iopub.status.idle": "2023-01-22T15:50:50.651693Z",
     "shell.execute_reply": "2023-01-22T15:50:50.650838Z"
    },
    "papermill": {
     "duration": 0.01632,
     "end_time": "2023-01-22T15:50:50.653644",
     "exception": false,
     "start_time": "2023-01-22T15:50:50.637324",
     "status": "completed"
    },
    "tags": []
   },
   "outputs": [],
   "source": [
    "def get_df(df, i):\n",
    "    pos= df[df.cancer==1]\n",
    "    neg= df[df.cancer==0]\n",
    "    pos= pos.reset_index(drop=True)\n",
    "    neg= neg.reset_index(drop=True)\n",
    "    \n",
    "    start= (i-1)*len(pos)\n",
    "    end= i*len(pos)\n",
    "    neg_new= neg[start: end]\n",
    "    n= pd.DataFrame()\n",
    "    n= pd.concat([neg_new,pos])\n",
    "    n= n.sample(frac=1)\n",
    "    n.reset_index(drop= True)\n",
    "    \n",
    "    return n"
   ]
  },
  {
   "cell_type": "code",
   "execution_count": 14,
   "id": "a479b626",
   "metadata": {
    "execution": {
     "iopub.execute_input": "2023-01-22T15:50:50.668012Z",
     "iopub.status.busy": "2023-01-22T15:50:50.667281Z",
     "iopub.status.idle": "2023-01-22T15:50:50.674242Z",
     "shell.execute_reply": "2023-01-22T15:50:50.673349Z"
    },
    "papermill": {
     "duration": 0.016215,
     "end_time": "2023-01-22T15:50:50.676408",
     "exception": false,
     "start_time": "2023-01-22T15:50:50.660193",
     "status": "completed"
    },
    "tags": []
   },
   "outputs": [],
   "source": [
    "class TrainDataset(Dataset):\n",
    "    def __init__(self, df, transform=None ):\n",
    "        self.transform = transform\n",
    "        self.img_path= df['img_path'].values \n",
    "        self.labels=df['cancer'].values\n",
    "    \n",
    "    def __len__(self):\n",
    "        return len(self.img_path)\n",
    "    \n",
    "    def __getitem__(self, item):\n",
    "        image = cv2.imread(self.img_path[item])\n",
    "        image = cv2.cvtColor(image, cv2.COLOR_BGR2RGB)\n",
    "        if self.transform:\n",
    "            aug = self.transform(image=image)\n",
    "            image=aug['image']\n",
    "        \n",
    "        classCategory = torch.tensor(self.labels[item]).long()\n",
    "        return image, classCategory"
   ]
  },
  {
   "cell_type": "code",
   "execution_count": 15,
   "id": "51332b32",
   "metadata": {
    "execution": {
     "iopub.execute_input": "2023-01-22T15:50:50.690828Z",
     "iopub.status.busy": "2023-01-22T15:50:50.690018Z",
     "iopub.status.idle": "2023-01-22T15:50:50.694093Z",
     "shell.execute_reply": "2023-01-22T15:50:50.693299Z"
    },
    "papermill": {
     "duration": 0.013274,
     "end_time": "2023-01-22T15:50:50.696090",
     "exception": false,
     "start_time": "2023-01-22T15:50:50.682816",
     "status": "completed"
    },
    "tags": []
   },
   "outputs": [],
   "source": [
    "# train_dataset= TrainDataset(X_train,transform=None)\n",
    "# img,clas= train_dataset[0]\n",
    "# img.shape"
   ]
  },
  {
   "cell_type": "code",
   "execution_count": 16,
   "id": "1f216698",
   "metadata": {
    "execution": {
     "iopub.execute_input": "2023-01-22T15:50:50.710218Z",
     "iopub.status.busy": "2023-01-22T15:50:50.709482Z",
     "iopub.status.idle": "2023-01-22T15:50:50.717037Z",
     "shell.execute_reply": "2023-01-22T15:50:50.715934Z"
    },
    "papermill": {
     "duration": 0.01685,
     "end_time": "2023-01-22T15:50:50.719300",
     "exception": false,
     "start_time": "2023-01-22T15:50:50.702450",
     "status": "completed"
    },
    "tags": []
   },
   "outputs": [],
   "source": [
    "def get_transforms(data):\n",
    "    \n",
    "    if data == 'train':\n",
    "        return A.Compose([\n",
    "            A.Resize(224, 224),\n",
    "            A.RandomResizedCrop(224, 224),\n",
    "            A.Transpose(p=0.5),\n",
    "            A.HorizontalFlip(p=0.5),\n",
    "            A.VerticalFlip(p=0.5),\n",
    "            A.ShiftScaleRotate(p=0.5),\n",
    "            A.Normalize(\n",
    "                mean=[0.485, 0.456, 0.406],\n",
    "                std=[0.229, 0.224, 0.225],\n",
    "            ),\n",
    "            ToTensorV2(),\n",
    "        ])\n",
    "    \n",
    "    if data == 'valid':\n",
    "        return A.Compose([\n",
    "            A.Resize(224, 224),\n",
    "            A.Normalize(\n",
    "                mean=[0.485, 0.456, 0.406],\n",
    "                std=[0.229, 0.224, 0.225]),\n",
    "            ToTensorV2()\n",
    "                ])"
   ]
  },
  {
   "cell_type": "code",
   "execution_count": 17,
   "id": "71decc33",
   "metadata": {
    "execution": {
     "iopub.execute_input": "2023-01-22T15:50:50.733408Z",
     "iopub.status.busy": "2023-01-22T15:50:50.732676Z",
     "iopub.status.idle": "2023-01-22T15:50:50.736645Z",
     "shell.execute_reply": "2023-01-22T15:50:50.735572Z"
    },
    "papermill": {
     "duration": 0.012926,
     "end_time": "2023-01-22T15:50:50.738633",
     "exception": false,
     "start_time": "2023-01-22T15:50:50.725707",
     "status": "completed"
    },
    "tags": []
   },
   "outputs": [],
   "source": [
    "# train_dataset= TrainDataset(X_train, transform= get_transforms('train'))\n",
    "# img,clas= train_dataset[0]\n",
    "# img.shape"
   ]
  },
  {
   "cell_type": "code",
   "execution_count": 18,
   "id": "45929d83",
   "metadata": {
    "execution": {
     "iopub.execute_input": "2023-01-22T15:50:50.752465Z",
     "iopub.status.busy": "2023-01-22T15:50:50.751941Z",
     "iopub.status.idle": "2023-01-22T15:50:50.758119Z",
     "shell.execute_reply": "2023-01-22T15:50:50.757243Z"
    },
    "papermill": {
     "duration": 0.0152,
     "end_time": "2023-01-22T15:50:50.760019",
     "exception": false,
     "start_time": "2023-01-22T15:50:50.744819",
     "status": "completed"
    },
    "tags": []
   },
   "outputs": [],
   "source": [
    "class CustomNet(nn.Module):\n",
    "    def __init__(self, model_name=CFG.model_name, pretrained=False):\n",
    "        super().__init__()\n",
    "        self.model = timm.create_model(CFG.model_name, pretrained=pretrained)\n",
    "        #print(self.model)\n",
    "        in_features = self.model.head.fc.in_features\n",
    "        self.model.head.fc= nn.Linear(in_features, CFG.target_size)\n",
    "\n",
    "    def forward(self, x):\n",
    "        x = self.model(x)\n",
    "        return x"
   ]
  },
  {
   "cell_type": "code",
   "execution_count": 19,
   "id": "d84a7753",
   "metadata": {
    "execution": {
     "iopub.execute_input": "2023-01-22T15:50:50.773869Z",
     "iopub.status.busy": "2023-01-22T15:50:50.773629Z",
     "iopub.status.idle": "2023-01-22T15:50:50.790910Z",
     "shell.execute_reply": "2023-01-22T15:50:50.790002Z"
    },
    "papermill": {
     "duration": 0.026701,
     "end_time": "2023-01-22T15:50:50.792903",
     "exception": false,
     "start_time": "2023-01-22T15:50:50.766202",
     "status": "completed"
    },
    "tags": []
   },
   "outputs": [],
   "source": [
    "def get_score(labels, preds, beta=1):\n",
    "    preds = preds.clip(0, 1)\n",
    "    y_true_count = labels.sum()\n",
    "    ctp = preds[labels==1].sum()\n",
    "    cfp = preds[labels==0].sum()\n",
    "    beta_squared = beta * beta\n",
    "    c_precision = ctp / (ctp + cfp)\n",
    "    c_recall = ctp / y_true_count\n",
    "    if (c_precision > 0 and c_recall > 0):\n",
    "        result = (1 + beta_squared) * (c_precision * c_recall) / (beta_squared * c_precision + c_recall)\n",
    "        return result\n",
    "    else:\n",
    "        return 0.0\n",
    "\n",
    "class AverageMeter(object):\n",
    "    \"\"\"Computes and stores the average and current value\"\"\"\n",
    "    def __init__(self):\n",
    "        self.reset()\n",
    "\n",
    "    def reset(self):\n",
    "        self.val = 0\n",
    "        self.avg = 0\n",
    "        self.sum = 0\n",
    "        self.count = 0\n",
    "\n",
    "    def update(self, val, n=1):\n",
    "        self.val = val\n",
    "        self.sum += val * n\n",
    "        self.count += n\n",
    "        self.avg = self.sum / self.count\n",
    "\n",
    "def train_one_epoch(train_loader, model, criterion, optimizer, epoch, scheduler, device='cpu'):\n",
    "    losses = AverageMeter()\n",
    "    preds=[]\n",
    "    truths=[]\n",
    "    global_step = 0\n",
    "    \n",
    "    model.train()\n",
    "    model=model.to(device)\n",
    "    for step, (imgs, labels) in tqdm(enumerate(train_loader),total= len(train_loader)):\n",
    "        imgs= imgs.to(device)\n",
    "        labels= labels.to(device)\n",
    "        batch_size = labels.size(0)\n",
    "        y_preds= model(imgs)\n",
    "        preds.append(y_preds.softmax(1).to('cpu').detach().numpy())   \n",
    "        truths.append(labels.to('cpu').numpy())\n",
    "        \n",
    "        loss = criterion(y_preds, labels)\n",
    "        losses.update(loss.item(), batch_size)\n",
    "        \n",
    "        if CFG.gradient_accumulation_steps > 1:\n",
    "            loss = loss / CFG.gradient_accumulation_steps  \n",
    "        \n",
    "        loss.backward()    \n",
    "        grad_norm = torch.nn.utils.clip_grad_norm_(model.parameters(), CFG.max_grad_norm)\n",
    "        if (step + 1) % CFG.gradient_accumulation_steps == 0:\n",
    "            optimizer.step()\n",
    "            optimizer.zero_grad()\n",
    "            global_step += 1\n",
    "        \n",
    "    preds= np.concatenate(preds)\n",
    "    predictions = np.argmax(preds,axis=1)\n",
    "    truths= np.concatenate(truths)\n",
    "    #print(preds,truths)\n",
    "    score= get_score(truths ,predictions)\n",
    "    print(f\"Epoch: {epoch} Train_loss: {losses.avg} Train_F1: {score}\")\n",
    "    return score\n",
    "\n",
    "def val_one_epoch(val_loader, model, criterion, epoch, device='cpu'):\n",
    "    losses = AverageMeter()\n",
    "    preds=[]\n",
    "    truths=[]\n",
    "    \n",
    "    model.eval()\n",
    "    model=model.to(device)\n",
    "    for step, (imgs, labels) in tqdm(enumerate(val_loader),total= len(val_loader)):\n",
    "        imgs= imgs.to(device)\n",
    "        labels= labels.to(device)\n",
    "        batch_size = labels.size(0)\n",
    "        with torch.no_grad():\n",
    "            y_preds= model(imgs)\n",
    "            preds.append(y_preds.softmax(1).to('cpu').numpy())  \n",
    "            truths.append(labels.to('cpu').numpy())\n",
    "\n",
    "            loss = criterion(y_preds, labels)\n",
    "            losses.update(loss.item(), batch_size)\n",
    "            if CFG.gradient_accumulation_steps > 1:\n",
    "                loss = loss / CFG.gradient_accumulation_steps\n",
    "    \n",
    "    predictions = np.argmax(np.concatenate(preds),axis=1)\n",
    "    truths= np.concatenate(truths)\n",
    "    score= get_score(truths ,predictions)\n",
    "    print(f\"Epoch: {epoch} Val_loss: {losses.avg} Val_F1: {score}\")\n",
    "    return score"
   ]
  },
  {
   "cell_type": "code",
   "execution_count": 20,
   "id": "4f5be58e",
   "metadata": {
    "execution": {
     "iopub.execute_input": "2023-01-22T15:50:50.807156Z",
     "iopub.status.busy": "2023-01-22T15:50:50.806436Z",
     "iopub.status.idle": "2023-01-22T15:50:50.810936Z",
     "shell.execute_reply": "2023-01-22T15:50:50.810108Z"
    },
    "papermill": {
     "duration": 0.013642,
     "end_time": "2023-01-22T15:50:50.812972",
     "exception": false,
     "start_time": "2023-01-22T15:50:50.799330",
     "status": "completed"
    },
    "tags": []
   },
   "outputs": [],
   "source": [
    "# device=torch.device('cuda:0' if torch.cuda.is_available() else 'cpu')\n",
    "# model= CustomNet(pretrained= True)\n",
    "# optimizer = Adam(model.parameters(), lr=CFG.lr, weight_decay=CFG.weight_decay, amsgrad=False)\n",
    "# scheduler = ExponentialLR(optimizer, gamma=0.9)\n",
    "# criterion =nn.CrossEntropyLoss().to(device)\n",
    "\n",
    "# train_dataset= TrainDataset(X_train, transform= get_transforms('train'))\n",
    "# train_loader= DataLoader(train_dataset, batch_size=64,\n",
    "#                          shuffle=True,\n",
    "#                          num_workers=1)\n",
    "# pred= val_one_epoch(train_loader,model, criterion,0)"
   ]
  },
  {
   "cell_type": "code",
   "execution_count": 21,
   "id": "1160c687",
   "metadata": {
    "execution": {
     "iopub.execute_input": "2023-01-22T15:50:50.827381Z",
     "iopub.status.busy": "2023-01-22T15:50:50.826667Z",
     "iopub.status.idle": "2023-01-22T15:50:50.833259Z",
     "shell.execute_reply": "2023-01-22T15:50:50.832437Z"
    },
    "papermill": {
     "duration": 0.01557,
     "end_time": "2023-01-22T15:50:50.835133",
     "exception": false,
     "start_time": "2023-01-22T15:50:50.819563",
     "status": "completed"
    },
    "tags": []
   },
   "outputs": [],
   "source": [
    "class FocalLoss(nn.Module):\n",
    "    def __init__(self, alpha=1, gamma=2, reduce=True):\n",
    "        super(FocalLoss, self).__init__()\n",
    "        self.alpha = alpha\n",
    "        self.gamma = gamma\n",
    "        self.reduce = reduce\n",
    "\n",
    "    def forward(self, inputs, targets):\n",
    "        BCE_loss = nn.CrossEntropyLoss()(inputs, targets)\n",
    "\n",
    "        pt = torch.exp(-BCE_loss)\n",
    "        F_loss = self.alpha * (1-pt)**self.gamma * BCE_loss\n",
    "\n",
    "        if self.reduce:\n",
    "            return torch.mean(F_loss)\n",
    "        else:\n",
    "            return F_loss"
   ]
  },
  {
   "cell_type": "code",
   "execution_count": 22,
   "id": "f54da769",
   "metadata": {
    "execution": {
     "iopub.execute_input": "2023-01-22T15:50:50.849215Z",
     "iopub.status.busy": "2023-01-22T15:50:50.848481Z",
     "iopub.status.idle": "2023-01-22T15:50:50.858025Z",
     "shell.execute_reply": "2023-01-22T15:50:50.857244Z"
    },
    "papermill": {
     "duration": 0.018404,
     "end_time": "2023-01-22T15:50:50.859935",
     "exception": false,
     "start_time": "2023-01-22T15:50:50.841531",
     "status": "completed"
    },
    "tags": []
   },
   "outputs": [],
   "source": [
    "def train(df,epochs,fold):\n",
    "    print(f\"Fold: {fold}\")\n",
    "    device=torch.device('cuda:0' if torch.cuda.is_available() else 'cpu')\n",
    "    model= CustomNet(pretrained= True)\n",
    "    optimizer = Adam(model.parameters(), lr=CFG.lr, weight_decay=CFG.weight_decay, amsgrad=False)\n",
    "    #scheduler = ExponentialLR(optimizer, gamma=0.8)\n",
    "    scheduler = CosineAnnealingWarmRestarts(optimizer, T_0=CFG.T_0, T_mult=1, eta_min=CFG.min_lr, last_epoch=-1)\n",
    "    criterion =FocalLoss().to(device)\n",
    "    best_score=-1\n",
    "    \n",
    "    X_train= df.loc[df['fold']!=fold]\n",
    "    X_test= df.loc[df['fold']==fold]\n",
    "    X_train= X_train.reset_index(drop=True)\n",
    "    X_test= X_test.reset_index(drop=True)\n",
    "\n",
    "    train_dataset= TrainDataset(X_train, transform= get_transforms('train'))\n",
    "    train_loader= DataLoader(train_dataset, batch_size=64,\n",
    "                                 shuffle=True,\n",
    "                                 num_workers=2)\n",
    "    val_dataset= TrainDataset(X_test, transform= get_transforms('valid'))\n",
    "    val_loader= DataLoader(val_dataset, batch_size=64,\n",
    "                                 shuffle=True,\n",
    "                                 num_workers=2)\n",
    "    for epoch in range(epochs):\n",
    "        train_score=train_one_epoch(train_loader, model, criterion, optimizer, epoch, scheduler, device)\n",
    "        val_score= val_one_epoch(val_loader,model, criterion,epoch, device)\n",
    "        scheduler.step()\n",
    "        if val_score>best_score:\n",
    "            best_score= val_score\n",
    "            print(\"Model improved :D\\n\")\n",
    "            model= model.to('cpu')\n",
    "            torch.save(model.state_dict(),f'model{fold}.pth')"
   ]
  },
  {
   "cell_type": "code",
   "execution_count": 23,
   "id": "137132d5",
   "metadata": {
    "execution": {
     "iopub.execute_input": "2023-01-22T15:50:50.873407Z",
     "iopub.status.busy": "2023-01-22T15:50:50.873133Z",
     "iopub.status.idle": "2023-01-22T15:50:50.877144Z",
     "shell.execute_reply": "2023-01-22T15:50:50.876081Z"
    },
    "papermill": {
     "duration": 0.012883,
     "end_time": "2023-01-22T15:50:50.879078",
     "exception": false,
     "start_time": "2023-01-22T15:50:50.866195",
     "status": "completed"
    },
    "tags": []
   },
   "outputs": [],
   "source": [
    "# u,v = model_selection.train_test_split(train_csv,stratify=train_csv.cancer, test_size=0.9, random_state=42)\n",
    "# neg= v[v['cancer']==0]\n",
    "# pos= v[v['cancer']==1]\n",
    "\n",
    "# t= pd.DataFrame()\n",
    "# t= pd.concat([pos, neg[:1500]])\n",
    "# t= t.sample(frac=1)\n",
    "# t= t.reset_index(drop= True)\n",
    "# len(t)"
   ]
  },
  {
   "cell_type": "code",
   "execution_count": 24,
   "id": "2d2a8d86",
   "metadata": {
    "execution": {
     "iopub.execute_input": "2023-01-22T15:50:50.893095Z",
     "iopub.status.busy": "2023-01-22T15:50:50.892328Z",
     "iopub.status.idle": "2023-01-23T03:43:30.911387Z",
     "shell.execute_reply": "2023-01-23T03:43:30.910240Z"
    },
    "papermill": {
     "duration": 42761.50061,
     "end_time": "2023-01-23T03:43:32.385844",
     "exception": false,
     "start_time": "2023-01-22T15:50:50.885234",
     "status": "completed"
    },
    "tags": []
   },
   "outputs": [
    {
     "name": "stdout",
     "output_type": "stream",
     "text": [
      "Fold: 0\n"
     ]
    },
    {
     "name": "stderr",
     "output_type": "stream",
     "text": [
      "Downloading: \"https://dl.fbaipublicfiles.com/convnext/convnext_tiny_1k_224_ema.pth\" to /root/.cache/torch/hub/checkpoints/convnext_tiny_1k_224_ema.pth\n",
      "100%|██████████| 616/616 [13:30<00:00,  1.32s/it]"
     ]
    },
    {
     "name": "stdout",
     "output_type": "stream",
     "text": [
      "Epoch: 0 Train_loss: 0.002613615002827855 Train_F1: 0.004629629629629629\n"
     ]
    },
    {
     "name": "stderr",
     "output_type": "stream",
     "text": [
      "\n",
      "100%|██████████| 154/154 [00:54<00:00,  2.85it/s]\n",
      "/opt/conda/lib/python3.7/site-packages/ipykernel_launcher.py:7: RuntimeWarning: invalid value encountered in long_scalars\n",
      "  import sys\n"
     ]
    },
    {
     "name": "stdout",
     "output_type": "stream",
     "text": [
      "Epoch: 0 Val_loss: 0.0018658511953111262 Val_F1: 0.0\n",
      "Model improved :D\n",
      "\n"
     ]
    },
    {
     "name": "stderr",
     "output_type": "stream",
     "text": [
      "100%|██████████| 616/616 [13:23<00:00,  1.30s/it]"
     ]
    },
    {
     "name": "stdout",
     "output_type": "stream",
     "text": [
      "Epoch: 1 Train_loss: 0.001984565535573668 Train_F1: 0.0\n"
     ]
    },
    {
     "name": "stderr",
     "output_type": "stream",
     "text": [
      "\n",
      "100%|██████████| 154/154 [00:33<00:00,  4.65it/s]"
     ]
    },
    {
     "name": "stdout",
     "output_type": "stream",
     "text": [
      "Epoch: 1 Val_loss: 0.002538244424046088 Val_F1: 0.0\n"
     ]
    },
    {
     "name": "stderr",
     "output_type": "stream",
     "text": [
      "\n",
      "100%|██████████| 616/616 [13:32<00:00,  1.32s/it]"
     ]
    },
    {
     "name": "stdout",
     "output_type": "stream",
     "text": [
      "Epoch: 2 Train_loss: 0.0020545585854208413 Train_F1: 0.0\n"
     ]
    },
    {
     "name": "stderr",
     "output_type": "stream",
     "text": [
      "\n",
      "100%|██████████| 154/154 [00:33<00:00,  4.63it/s]"
     ]
    },
    {
     "name": "stdout",
     "output_type": "stream",
     "text": [
      "Epoch: 2 Val_loss: 0.0018435499784441106 Val_F1: 0.0\n"
     ]
    },
    {
     "name": "stderr",
     "output_type": "stream",
     "text": [
      "\n",
      "100%|██████████| 616/616 [13:32<00:00,  1.32s/it]"
     ]
    },
    {
     "name": "stdout",
     "output_type": "stream",
     "text": [
      "Epoch: 3 Train_loss: 0.0020730592800384433 Train_F1: 0.0\n"
     ]
    },
    {
     "name": "stderr",
     "output_type": "stream",
     "text": [
      "\n",
      "100%|██████████| 154/154 [00:33<00:00,  4.56it/s]"
     ]
    },
    {
     "name": "stdout",
     "output_type": "stream",
     "text": [
      "Epoch: 3 Val_loss: 0.0019823631263157894 Val_F1: 0.0\n"
     ]
    },
    {
     "name": "stderr",
     "output_type": "stream",
     "text": [
      "\n",
      "100%|██████████| 616/616 [13:34<00:00,  1.32s/it]"
     ]
    },
    {
     "name": "stdout",
     "output_type": "stream",
     "text": [
      "Epoch: 4 Train_loss: 0.0018853519874750875 Train_F1: 0.0\n"
     ]
    },
    {
     "name": "stderr",
     "output_type": "stream",
     "text": [
      "\n",
      "100%|██████████| 154/154 [00:34<00:00,  4.48it/s]"
     ]
    },
    {
     "name": "stdout",
     "output_type": "stream",
     "text": [
      "Epoch: 4 Val_loss: 0.0018288358604729976 Val_F1: 0.0\n"
     ]
    },
    {
     "name": "stderr",
     "output_type": "stream",
     "text": [
      "\n",
      "100%|██████████| 616/616 [13:32<00:00,  1.32s/it]"
     ]
    },
    {
     "name": "stdout",
     "output_type": "stream",
     "text": [
      "Epoch: 5 Train_loss: 0.0018480355519063095 Train_F1: 0.0\n"
     ]
    },
    {
     "name": "stderr",
     "output_type": "stream",
     "text": [
      "\n",
      "100%|██████████| 154/154 [00:34<00:00,  4.50it/s]"
     ]
    },
    {
     "name": "stdout",
     "output_type": "stream",
     "text": [
      "Epoch: 5 Val_loss: 0.001626834848272012 Val_F1: 0.0\n"
     ]
    },
    {
     "name": "stderr",
     "output_type": "stream",
     "text": [
      "\n",
      "100%|██████████| 616/616 [13:48<00:00,  1.34s/it]"
     ]
    },
    {
     "name": "stdout",
     "output_type": "stream",
     "text": [
      "Epoch: 6 Train_loss: 0.0018907801413631882 Train_F1: 0.0\n"
     ]
    },
    {
     "name": "stderr",
     "output_type": "stream",
     "text": [
      "\n",
      "100%|██████████| 154/154 [00:34<00:00,  4.43it/s]"
     ]
    },
    {
     "name": "stdout",
     "output_type": "stream",
     "text": [
      "Epoch: 6 Val_loss: 0.0019438259665162123 Val_F1: 0.0\n"
     ]
    },
    {
     "name": "stderr",
     "output_type": "stream",
     "text": [
      "\n",
      "100%|██████████| 616/616 [13:43<00:00,  1.34s/it]"
     ]
    },
    {
     "name": "stdout",
     "output_type": "stream",
     "text": [
      "Epoch: 7 Train_loss: 0.0017980804826219488 Train_F1: 0.0\n"
     ]
    },
    {
     "name": "stderr",
     "output_type": "stream",
     "text": [
      "\n",
      "100%|██████████| 154/154 [00:35<00:00,  4.38it/s]"
     ]
    },
    {
     "name": "stdout",
     "output_type": "stream",
     "text": [
      "Epoch: 7 Val_loss: 0.0016435655337228177 Val_F1: 0.0\n"
     ]
    },
    {
     "name": "stderr",
     "output_type": "stream",
     "text": [
      "\n",
      "100%|██████████| 616/616 [13:30<00:00,  1.32s/it]"
     ]
    },
    {
     "name": "stdout",
     "output_type": "stream",
     "text": [
      "Epoch: 8 Train_loss: 0.001666077957826728 Train_F1: 0.0\n"
     ]
    },
    {
     "name": "stderr",
     "output_type": "stream",
     "text": [
      "\n",
      "100%|██████████| 154/154 [00:33<00:00,  4.54it/s]"
     ]
    },
    {
     "name": "stdout",
     "output_type": "stream",
     "text": [
      "Epoch: 8 Val_loss: 0.001753307647281667 Val_F1: 0.0\n"
     ]
    },
    {
     "name": "stderr",
     "output_type": "stream",
     "text": [
      "\n",
      "100%|██████████| 616/616 [13:41<00:00,  1.33s/it]"
     ]
    },
    {
     "name": "stdout",
     "output_type": "stream",
     "text": [
      "Epoch: 9 Train_loss: 0.0015916107187809933 Train_F1: 0.00243605359317905\n"
     ]
    },
    {
     "name": "stderr",
     "output_type": "stream",
     "text": [
      "\n",
      "100%|██████████| 154/154 [00:33<00:00,  4.55it/s]\n"
     ]
    },
    {
     "name": "stdout",
     "output_type": "stream",
     "text": [
      "Epoch: 9 Val_loss: 0.0019417803253505828 Val_F1: 0.0\n",
      "Fold: 1\n"
     ]
    },
    {
     "name": "stderr",
     "output_type": "stream",
     "text": [
      "100%|██████████| 616/616 [13:28<00:00,  1.31s/it]"
     ]
    },
    {
     "name": "stdout",
     "output_type": "stream",
     "text": [
      "Epoch: 0 Train_loss: 0.0025623547091644583 Train_F1: 0.0\n"
     ]
    },
    {
     "name": "stderr",
     "output_type": "stream",
     "text": [
      "\n",
      "100%|██████████| 154/154 [00:32<00:00,  4.77it/s]\n"
     ]
    },
    {
     "name": "stdout",
     "output_type": "stream",
     "text": [
      "Epoch: 0 Val_loss: 0.001871078005397063 Val_F1: 0.0\n",
      "Model improved :D\n",
      "\n"
     ]
    },
    {
     "name": "stderr",
     "output_type": "stream",
     "text": [
      "100%|██████████| 616/616 [13:27<00:00,  1.31s/it]"
     ]
    },
    {
     "name": "stdout",
     "output_type": "stream",
     "text": [
      "Epoch: 1 Train_loss: 0.0018873513180403065 Train_F1: 0.0\n"
     ]
    },
    {
     "name": "stderr",
     "output_type": "stream",
     "text": [
      "\n",
      "100%|██████████| 154/154 [00:35<00:00,  4.37it/s]"
     ]
    },
    {
     "name": "stdout",
     "output_type": "stream",
     "text": [
      "Epoch: 1 Val_loss: 0.0021453407853101944 Val_F1: 0.0\n"
     ]
    },
    {
     "name": "stderr",
     "output_type": "stream",
     "text": [
      "\n",
      "100%|██████████| 616/616 [13:45<00:00,  1.34s/it]"
     ]
    },
    {
     "name": "stdout",
     "output_type": "stream",
     "text": [
      "Epoch: 2 Train_loss: 0.001952551247864735 Train_F1: 0.0\n"
     ]
    },
    {
     "name": "stderr",
     "output_type": "stream",
     "text": [
      "\n",
      "100%|██████████| 154/154 [00:35<00:00,  4.32it/s]"
     ]
    },
    {
     "name": "stdout",
     "output_type": "stream",
     "text": [
      "Epoch: 2 Val_loss: 0.0019120210349097718 Val_F1: 0.0\n"
     ]
    },
    {
     "name": "stderr",
     "output_type": "stream",
     "text": [
      "\n",
      "100%|██████████| 616/616 [13:36<00:00,  1.33s/it]"
     ]
    },
    {
     "name": "stdout",
     "output_type": "stream",
     "text": [
      "Epoch: 3 Train_loss: 0.0019966988500556356 Train_F1: 0.0\n"
     ]
    },
    {
     "name": "stderr",
     "output_type": "stream",
     "text": [
      "\n",
      "100%|██████████| 154/154 [00:34<00:00,  4.50it/s]"
     ]
    },
    {
     "name": "stdout",
     "output_type": "stream",
     "text": [
      "Epoch: 3 Val_loss: 0.001872129290234147 Val_F1: 0.0\n"
     ]
    },
    {
     "name": "stderr",
     "output_type": "stream",
     "text": [
      "\n",
      "100%|██████████| 616/616 [13:32<00:00,  1.32s/it]"
     ]
    },
    {
     "name": "stdout",
     "output_type": "stream",
     "text": [
      "Epoch: 4 Train_loss: 0.0019720035253666017 Train_F1: 0.0\n"
     ]
    },
    {
     "name": "stderr",
     "output_type": "stream",
     "text": [
      "\n",
      "100%|██████████| 154/154 [00:32<00:00,  4.78it/s]"
     ]
    },
    {
     "name": "stdout",
     "output_type": "stream",
     "text": [
      "Epoch: 4 Val_loss: 0.0019003236978536024 Val_F1: 0.0\n"
     ]
    },
    {
     "name": "stderr",
     "output_type": "stream",
     "text": [
      "\n",
      "100%|██████████| 616/616 [13:35<00:00,  1.32s/it]"
     ]
    },
    {
     "name": "stdout",
     "output_type": "stream",
     "text": [
      "Epoch: 5 Train_loss: 0.0018066926766803135 Train_F1: 0.0\n"
     ]
    },
    {
     "name": "stderr",
     "output_type": "stream",
     "text": [
      "\n",
      "100%|██████████| 154/154 [00:34<00:00,  4.44it/s]"
     ]
    },
    {
     "name": "stdout",
     "output_type": "stream",
     "text": [
      "Epoch: 5 Val_loss: 0.001865388221178947 Val_F1: 0.0\n"
     ]
    },
    {
     "name": "stderr",
     "output_type": "stream",
     "text": [
      "\n",
      "100%|██████████| 616/616 [13:43<00:00,  1.34s/it]"
     ]
    },
    {
     "name": "stdout",
     "output_type": "stream",
     "text": [
      "Epoch: 6 Train_loss: 0.001768076540481455 Train_F1: 0.0\n"
     ]
    },
    {
     "name": "stderr",
     "output_type": "stream",
     "text": [
      "\n",
      "100%|██████████| 154/154 [00:33<00:00,  4.54it/s]"
     ]
    },
    {
     "name": "stdout",
     "output_type": "stream",
     "text": [
      "Epoch: 6 Val_loss: 0.0016983447854521797 Val_F1: 0.0\n"
     ]
    },
    {
     "name": "stderr",
     "output_type": "stream",
     "text": [
      "\n",
      "100%|██████████| 616/616 [13:32<00:00,  1.32s/it]"
     ]
    },
    {
     "name": "stdout",
     "output_type": "stream",
     "text": [
      "Epoch: 7 Train_loss: 0.0017787992440503316 Train_F1: 0.0\n"
     ]
    },
    {
     "name": "stderr",
     "output_type": "stream",
     "text": [
      "\n",
      "100%|██████████| 154/154 [00:34<00:00,  4.44it/s]"
     ]
    },
    {
     "name": "stdout",
     "output_type": "stream",
     "text": [
      "Epoch: 7 Val_loss: 0.0015838052128354864 Val_F1: 0.0\n"
     ]
    },
    {
     "name": "stderr",
     "output_type": "stream",
     "text": [
      "\n",
      "100%|██████████| 616/616 [13:41<00:00,  1.33s/it]"
     ]
    },
    {
     "name": "stdout",
     "output_type": "stream",
     "text": [
      "Epoch: 8 Train_loss: 0.0017348375363981094 Train_F1: 0.007290400972053464\n"
     ]
    },
    {
     "name": "stderr",
     "output_type": "stream",
     "text": [
      "\n",
      "100%|██████████| 154/154 [00:37<00:00,  4.14it/s]"
     ]
    },
    {
     "name": "stdout",
     "output_type": "stream",
     "text": [
      "Epoch: 8 Val_loss: 0.0016123914174238476 Val_F1: 0.0\n"
     ]
    },
    {
     "name": "stderr",
     "output_type": "stream",
     "text": [
      "\n",
      "100%|██████████| 616/616 [13:44<00:00,  1.34s/it]"
     ]
    },
    {
     "name": "stdout",
     "output_type": "stream",
     "text": [
      "Epoch: 9 Train_loss: 0.0016307299186183281 Train_F1: 0.009708737864077669\n"
     ]
    },
    {
     "name": "stderr",
     "output_type": "stream",
     "text": [
      "\n",
      "100%|██████████| 154/154 [00:36<00:00,  4.22it/s]\n"
     ]
    },
    {
     "name": "stdout",
     "output_type": "stream",
     "text": [
      "Epoch: 9 Val_loss: 0.0014751409648654415 Val_F1: 0.0\n",
      "Fold: 2\n"
     ]
    },
    {
     "name": "stderr",
     "output_type": "stream",
     "text": [
      "100%|██████████| 616/616 [13:41<00:00,  1.33s/it]"
     ]
    },
    {
     "name": "stdout",
     "output_type": "stream",
     "text": [
      "Epoch: 0 Train_loss: 0.003051806320188472 Train_F1: 0.0022421524663677134\n"
     ]
    },
    {
     "name": "stderr",
     "output_type": "stream",
     "text": [
      "\n",
      "100%|██████████| 154/154 [00:34<00:00,  4.48it/s]\n"
     ]
    },
    {
     "name": "stdout",
     "output_type": "stream",
     "text": [
      "Epoch: 0 Val_loss: 0.0018544526890449716 Val_F1: 0.0\n",
      "Model improved :D\n",
      "\n"
     ]
    },
    {
     "name": "stderr",
     "output_type": "stream",
     "text": [
      "100%|██████████| 616/616 [13:44<00:00,  1.34s/it]"
     ]
    },
    {
     "name": "stdout",
     "output_type": "stream",
     "text": [
      "Epoch: 1 Train_loss: 0.0020032134926454776 Train_F1: 0.0\n"
     ]
    },
    {
     "name": "stderr",
     "output_type": "stream",
     "text": [
      "\n",
      "100%|██████████| 154/154 [00:34<00:00,  4.52it/s]"
     ]
    },
    {
     "name": "stdout",
     "output_type": "stream",
     "text": [
      "Epoch: 1 Val_loss: 0.0018920622802692643 Val_F1: 0.0\n"
     ]
    },
    {
     "name": "stderr",
     "output_type": "stream",
     "text": [
      "\n",
      "100%|██████████| 616/616 [13:52<00:00,  1.35s/it]"
     ]
    },
    {
     "name": "stdout",
     "output_type": "stream",
     "text": [
      "Epoch: 2 Train_loss: 0.002079584858617639 Train_F1: 0.0\n"
     ]
    },
    {
     "name": "stderr",
     "output_type": "stream",
     "text": [
      "\n",
      "100%|██████████| 154/154 [00:34<00:00,  4.43it/s]"
     ]
    },
    {
     "name": "stdout",
     "output_type": "stream",
     "text": [
      "Epoch: 2 Val_loss: 0.002034364599771635 Val_F1: 0.0\n"
     ]
    },
    {
     "name": "stderr",
     "output_type": "stream",
     "text": [
      "\n",
      "100%|██████████| 616/616 [14:01<00:00,  1.37s/it]"
     ]
    },
    {
     "name": "stdout",
     "output_type": "stream",
     "text": [
      "Epoch: 3 Train_loss: 0.0019563892951982294 Train_F1: 0.0\n"
     ]
    },
    {
     "name": "stderr",
     "output_type": "stream",
     "text": [
      "\n",
      "100%|██████████| 154/154 [00:39<00:00,  3.87it/s]"
     ]
    },
    {
     "name": "stdout",
     "output_type": "stream",
     "text": [
      "Epoch: 3 Val_loss: 0.0020837217524534903 Val_F1: 0.0\n"
     ]
    },
    {
     "name": "stderr",
     "output_type": "stream",
     "text": [
      "\n",
      "100%|██████████| 616/616 [13:56<00:00,  1.36s/it]"
     ]
    },
    {
     "name": "stdout",
     "output_type": "stream",
     "text": [
      "Epoch: 4 Train_loss: 0.0019477831729404805 Train_F1: 0.0\n"
     ]
    },
    {
     "name": "stderr",
     "output_type": "stream",
     "text": [
      "\n",
      "100%|██████████| 154/154 [00:34<00:00,  4.44it/s]"
     ]
    },
    {
     "name": "stdout",
     "output_type": "stream",
     "text": [
      "Epoch: 4 Val_loss: 0.001743532453325708 Val_F1: 0.0\n"
     ]
    },
    {
     "name": "stderr",
     "output_type": "stream",
     "text": [
      "\n",
      "100%|██████████| 616/616 [13:48<00:00,  1.35s/it]"
     ]
    },
    {
     "name": "stdout",
     "output_type": "stream",
     "text": [
      "Epoch: 5 Train_loss: 0.001868581424426511 Train_F1: 0.0\n"
     ]
    },
    {
     "name": "stderr",
     "output_type": "stream",
     "text": [
      "\n",
      "100%|██████████| 154/154 [00:35<00:00,  4.30it/s]"
     ]
    },
    {
     "name": "stdout",
     "output_type": "stream",
     "text": [
      "Epoch: 5 Val_loss: 0.0018983265311300814 Val_F1: 0.0\n"
     ]
    },
    {
     "name": "stderr",
     "output_type": "stream",
     "text": [
      "\n",
      "100%|██████████| 616/616 [13:33<00:00,  1.32s/it]"
     ]
    },
    {
     "name": "stdout",
     "output_type": "stream",
     "text": [
      "Epoch: 6 Train_loss: 0.001901841853284422 Train_F1: 0.0\n"
     ]
    },
    {
     "name": "stderr",
     "output_type": "stream",
     "text": [
      "\n",
      "100%|██████████| 154/154 [00:34<00:00,  4.47it/s]"
     ]
    },
    {
     "name": "stdout",
     "output_type": "stream",
     "text": [
      "Epoch: 6 Val_loss: 0.001862457278485004 Val_F1: 0.0\n"
     ]
    },
    {
     "name": "stderr",
     "output_type": "stream",
     "text": [
      "\n",
      "100%|██████████| 616/616 [13:35<00:00,  1.32s/it]"
     ]
    },
    {
     "name": "stdout",
     "output_type": "stream",
     "text": [
      "Epoch: 7 Train_loss: 0.0018831297313521987 Train_F1: 0.0\n"
     ]
    },
    {
     "name": "stderr",
     "output_type": "stream",
     "text": [
      "\n",
      "100%|██████████| 154/154 [00:35<00:00,  4.33it/s]"
     ]
    },
    {
     "name": "stdout",
     "output_type": "stream",
     "text": [
      "Epoch: 7 Val_loss: 0.0016953269119800805 Val_F1: 0.0\n"
     ]
    },
    {
     "name": "stderr",
     "output_type": "stream",
     "text": [
      "\n",
      "100%|██████████| 616/616 [13:44<00:00,  1.34s/it]"
     ]
    },
    {
     "name": "stdout",
     "output_type": "stream",
     "text": [
      "Epoch: 8 Train_loss: 0.0019149690829695467 Train_F1: 0.0\n"
     ]
    },
    {
     "name": "stderr",
     "output_type": "stream",
     "text": [
      "\n",
      "100%|██████████| 154/154 [00:35<00:00,  4.38it/s]"
     ]
    },
    {
     "name": "stdout",
     "output_type": "stream",
     "text": [
      "Epoch: 8 Val_loss: 0.0019295788510225393 Val_F1: 0.0\n"
     ]
    },
    {
     "name": "stderr",
     "output_type": "stream",
     "text": [
      "\n",
      "100%|██████████| 616/616 [13:37<00:00,  1.33s/it]"
     ]
    },
    {
     "name": "stdout",
     "output_type": "stream",
     "text": [
      "Epoch: 9 Train_loss: 0.0017074416712097213 Train_F1: 0.0\n"
     ]
    },
    {
     "name": "stderr",
     "output_type": "stream",
     "text": [
      "\n",
      "100%|██████████| 154/154 [00:34<00:00,  4.43it/s]\n"
     ]
    },
    {
     "name": "stdout",
     "output_type": "stream",
     "text": [
      "Epoch: 9 Val_loss: 0.0017709962396371237 Val_F1: 0.0\n",
      "Fold: 3\n"
     ]
    },
    {
     "name": "stderr",
     "output_type": "stream",
     "text": [
      "100%|██████████| 616/616 [13:41<00:00,  1.33s/it]"
     ]
    },
    {
     "name": "stdout",
     "output_type": "stream",
     "text": [
      "Epoch: 0 Train_loss: 0.002830870431945545 Train_F1: 0.0023148148148148147\n"
     ]
    },
    {
     "name": "stderr",
     "output_type": "stream",
     "text": [
      "\n",
      "100%|██████████| 154/154 [00:34<00:00,  4.42it/s]\n"
     ]
    },
    {
     "name": "stdout",
     "output_type": "stream",
     "text": [
      "Epoch: 0 Val_loss: 0.0017617788813359821 Val_F1: 0.0\n",
      "Model improved :D\n",
      "\n"
     ]
    },
    {
     "name": "stderr",
     "output_type": "stream",
     "text": [
      "100%|██████████| 616/616 [13:45<00:00,  1.34s/it]"
     ]
    },
    {
     "name": "stdout",
     "output_type": "stream",
     "text": [
      "Epoch: 1 Train_loss: 0.0020341120721917272 Train_F1: 0.0\n"
     ]
    },
    {
     "name": "stderr",
     "output_type": "stream",
     "text": [
      "\n",
      "100%|██████████| 154/154 [00:34<00:00,  4.42it/s]"
     ]
    },
    {
     "name": "stdout",
     "output_type": "stream",
     "text": [
      "Epoch: 1 Val_loss: 0.002166971900588068 Val_F1: 0.0\n"
     ]
    },
    {
     "name": "stderr",
     "output_type": "stream",
     "text": [
      "\n",
      "100%|██████████| 616/616 [13:45<00:00,  1.34s/it]"
     ]
    },
    {
     "name": "stdout",
     "output_type": "stream",
     "text": [
      "Epoch: 2 Train_loss: 0.002001228682414516 Train_F1: 0.0\n"
     ]
    },
    {
     "name": "stderr",
     "output_type": "stream",
     "text": [
      "\n",
      "100%|██████████| 154/154 [00:36<00:00,  4.23it/s]"
     ]
    },
    {
     "name": "stdout",
     "output_type": "stream",
     "text": [
      "Epoch: 2 Val_loss: 0.001895312643875817 Val_F1: 0.0\n"
     ]
    },
    {
     "name": "stderr",
     "output_type": "stream",
     "text": [
      "\n",
      "100%|██████████| 616/616 [13:41<00:00,  1.33s/it]"
     ]
    },
    {
     "name": "stdout",
     "output_type": "stream",
     "text": [
      "Epoch: 3 Train_loss: 0.0019916070878614515 Train_F1: 0.0\n"
     ]
    },
    {
     "name": "stderr",
     "output_type": "stream",
     "text": [
      "\n",
      "100%|██████████| 154/154 [00:34<00:00,  4.48it/s]"
     ]
    },
    {
     "name": "stdout",
     "output_type": "stream",
     "text": [
      "Epoch: 3 Val_loss: 0.0019240278509820364 Val_F1: 0.0\n"
     ]
    },
    {
     "name": "stderr",
     "output_type": "stream",
     "text": [
      "\n",
      "100%|██████████| 616/616 [13:50<00:00,  1.35s/it]"
     ]
    },
    {
     "name": "stdout",
     "output_type": "stream",
     "text": [
      "Epoch: 4 Train_loss: 0.0019192487075447788 Train_F1: 0.0\n"
     ]
    },
    {
     "name": "stderr",
     "output_type": "stream",
     "text": [
      "\n",
      "100%|██████████| 154/154 [00:35<00:00,  4.38it/s]"
     ]
    },
    {
     "name": "stdout",
     "output_type": "stream",
     "text": [
      "Epoch: 4 Val_loss: 0.0017623640466294104 Val_F1: 0.0\n"
     ]
    },
    {
     "name": "stderr",
     "output_type": "stream",
     "text": [
      "\n",
      "100%|██████████| 616/616 [13:51<00:00,  1.35s/it]"
     ]
    },
    {
     "name": "stdout",
     "output_type": "stream",
     "text": [
      "Epoch: 5 Train_loss: 0.0019222566713812234 Train_F1: 0.0\n"
     ]
    },
    {
     "name": "stderr",
     "output_type": "stream",
     "text": [
      "\n",
      "100%|██████████| 154/154 [00:34<00:00,  4.42it/s]"
     ]
    },
    {
     "name": "stdout",
     "output_type": "stream",
     "text": [
      "Epoch: 5 Val_loss: 0.0017847360266910652 Val_F1: 0.0\n"
     ]
    },
    {
     "name": "stderr",
     "output_type": "stream",
     "text": [
      "\n",
      "100%|██████████| 616/616 [13:42<00:00,  1.33s/it]"
     ]
    },
    {
     "name": "stdout",
     "output_type": "stream",
     "text": [
      "Epoch: 6 Train_loss: 0.0018694193948607667 Train_F1: 0.0\n"
     ]
    },
    {
     "name": "stderr",
     "output_type": "stream",
     "text": [
      "\n",
      "100%|██████████| 154/154 [00:35<00:00,  4.28it/s]"
     ]
    },
    {
     "name": "stdout",
     "output_type": "stream",
     "text": [
      "Epoch: 6 Val_loss: 0.0018579452009169538 Val_F1: 0.0\n"
     ]
    },
    {
     "name": "stderr",
     "output_type": "stream",
     "text": [
      "\n",
      "100%|██████████| 616/616 [13:57<00:00,  1.36s/it]"
     ]
    },
    {
     "name": "stdout",
     "output_type": "stream",
     "text": [
      "Epoch: 7 Train_loss: 0.001919620991160459 Train_F1: 0.0\n"
     ]
    },
    {
     "name": "stderr",
     "output_type": "stream",
     "text": [
      "\n",
      "100%|██████████| 154/154 [00:35<00:00,  4.33it/s]"
     ]
    },
    {
     "name": "stdout",
     "output_type": "stream",
     "text": [
      "Epoch: 7 Val_loss: 0.0013872931590052096 Val_F1: 0.0\n"
     ]
    },
    {
     "name": "stderr",
     "output_type": "stream",
     "text": [
      "\n",
      "100%|██████████| 616/616 [13:45<00:00,  1.34s/it]"
     ]
    },
    {
     "name": "stdout",
     "output_type": "stream",
     "text": [
      "Epoch: 8 Train_loss: 0.0017288233769073868 Train_F1: 0.0\n"
     ]
    },
    {
     "name": "stderr",
     "output_type": "stream",
     "text": [
      "\n",
      "100%|██████████| 154/154 [00:35<00:00,  4.32it/s]"
     ]
    },
    {
     "name": "stdout",
     "output_type": "stream",
     "text": [
      "Epoch: 8 Val_loss: 0.0015633297353480813 Val_F1: 0.0\n"
     ]
    },
    {
     "name": "stderr",
     "output_type": "stream",
     "text": [
      "\n",
      "100%|██████████| 616/616 [13:41<00:00,  1.33s/it]"
     ]
    },
    {
     "name": "stdout",
     "output_type": "stream",
     "text": [
      "Epoch: 9 Train_loss: 0.0016287764543647715 Train_F1: 0.0\n"
     ]
    },
    {
     "name": "stderr",
     "output_type": "stream",
     "text": [
      "\n",
      "100%|██████████| 154/154 [00:34<00:00,  4.52it/s]\n"
     ]
    },
    {
     "name": "stdout",
     "output_type": "stream",
     "text": [
      "Epoch: 9 Val_loss: 0.001439383739199068 Val_F1: 0.0\n",
      "Fold: 4\n"
     ]
    },
    {
     "name": "stderr",
     "output_type": "stream",
     "text": [
      "100%|██████████| 616/616 [13:40<00:00,  1.33s/it]"
     ]
    },
    {
     "name": "stdout",
     "output_type": "stream",
     "text": [
      "Epoch: 0 Train_loss: 0.0022643604666835095 Train_F1: 0.0\n"
     ]
    },
    {
     "name": "stderr",
     "output_type": "stream",
     "text": [
      "\n",
      "100%|██████████| 154/154 [00:35<00:00,  4.39it/s]\n"
     ]
    },
    {
     "name": "stdout",
     "output_type": "stream",
     "text": [
      "Epoch: 0 Val_loss: 0.0019450450250771954 Val_F1: 0.0\n",
      "Model improved :D\n",
      "\n"
     ]
    },
    {
     "name": "stderr",
     "output_type": "stream",
     "text": [
      "100%|██████████| 616/616 [13:40<00:00,  1.33s/it]"
     ]
    },
    {
     "name": "stdout",
     "output_type": "stream",
     "text": [
      "Epoch: 1 Train_loss: 0.001970935893934409 Train_F1: 0.0\n"
     ]
    },
    {
     "name": "stderr",
     "output_type": "stream",
     "text": [
      "\n",
      "100%|██████████| 154/154 [00:34<00:00,  4.46it/s]"
     ]
    },
    {
     "name": "stdout",
     "output_type": "stream",
     "text": [
      "Epoch: 1 Val_loss: 0.002119077554749508 Val_F1: 0.0\n"
     ]
    },
    {
     "name": "stderr",
     "output_type": "stream",
     "text": [
      "\n",
      "100%|██████████| 616/616 [13:50<00:00,  1.35s/it]"
     ]
    },
    {
     "name": "stdout",
     "output_type": "stream",
     "text": [
      "Epoch: 2 Train_loss: 0.0019174202328982408 Train_F1: 0.0\n"
     ]
    },
    {
     "name": "stderr",
     "output_type": "stream",
     "text": [
      "\n",
      "100%|██████████| 154/154 [00:34<00:00,  4.42it/s]"
     ]
    },
    {
     "name": "stdout",
     "output_type": "stream",
     "text": [
      "Epoch: 2 Val_loss: 0.0025126701416414614 Val_F1: 0.0\n"
     ]
    },
    {
     "name": "stderr",
     "output_type": "stream",
     "text": [
      "\n",
      "100%|██████████| 616/616 [13:42<00:00,  1.34s/it]"
     ]
    },
    {
     "name": "stdout",
     "output_type": "stream",
     "text": [
      "Epoch: 3 Train_loss: 0.002067227217940219 Train_F1: 0.0\n"
     ]
    },
    {
     "name": "stderr",
     "output_type": "stream",
     "text": [
      "\n",
      "100%|██████████| 154/154 [00:33<00:00,  4.58it/s]"
     ]
    },
    {
     "name": "stdout",
     "output_type": "stream",
     "text": [
      "Epoch: 3 Val_loss: 0.0020064385714756694 Val_F1: 0.0\n"
     ]
    },
    {
     "name": "stderr",
     "output_type": "stream",
     "text": [
      "\n",
      "100%|██████████| 616/616 [13:21<00:00,  1.30s/it]\n"
     ]
    },
    {
     "name": "stdout",
     "output_type": "stream",
     "text": [
      "Epoch: 4 Train_loss: 0.0019322749043150845 Train_F1: 0.0\n"
     ]
    },
    {
     "name": "stderr",
     "output_type": "stream",
     "text": [
      "100%|██████████| 154/154 [00:34<00:00,  4.53it/s]"
     ]
    },
    {
     "name": "stdout",
     "output_type": "stream",
     "text": [
      "Epoch: 4 Val_loss: 0.0018881006973617616 Val_F1: 0.0\n"
     ]
    },
    {
     "name": "stderr",
     "output_type": "stream",
     "text": [
      "\n",
      "100%|██████████| 616/616 [13:30<00:00,  1.31s/it]"
     ]
    },
    {
     "name": "stdout",
     "output_type": "stream",
     "text": [
      "Epoch: 5 Train_loss: 0.0019588871248706545 Train_F1: 0.0\n"
     ]
    },
    {
     "name": "stderr",
     "output_type": "stream",
     "text": [
      "\n",
      "100%|██████████| 154/154 [00:34<00:00,  4.43it/s]"
     ]
    },
    {
     "name": "stdout",
     "output_type": "stream",
     "text": [
      "Epoch: 5 Val_loss: 0.0017486604886326493 Val_F1: 0.0\n"
     ]
    },
    {
     "name": "stderr",
     "output_type": "stream",
     "text": [
      "\n",
      "100%|██████████| 616/616 [13:35<00:00,  1.32s/it]"
     ]
    },
    {
     "name": "stdout",
     "output_type": "stream",
     "text": [
      "Epoch: 6 Train_loss: 0.0019467029508174222 Train_F1: 0.0\n"
     ]
    },
    {
     "name": "stderr",
     "output_type": "stream",
     "text": [
      "\n",
      "100%|██████████| 154/154 [00:34<00:00,  4.43it/s]"
     ]
    },
    {
     "name": "stdout",
     "output_type": "stream",
     "text": [
      "Epoch: 6 Val_loss: 0.002006186255200292 Val_F1: 0.0\n"
     ]
    },
    {
     "name": "stderr",
     "output_type": "stream",
     "text": [
      "\n",
      "100%|██████████| 616/616 [13:29<00:00,  1.31s/it]"
     ]
    },
    {
     "name": "stdout",
     "output_type": "stream",
     "text": [
      "Epoch: 7 Train_loss: 0.0018974305321748184 Train_F1: 0.0\n"
     ]
    },
    {
     "name": "stderr",
     "output_type": "stream",
     "text": [
      "\n",
      "100%|██████████| 154/154 [00:34<00:00,  4.51it/s]"
     ]
    },
    {
     "name": "stdout",
     "output_type": "stream",
     "text": [
      "Epoch: 7 Val_loss: 0.001764253784981778 Val_F1: 0.0\n"
     ]
    },
    {
     "name": "stderr",
     "output_type": "stream",
     "text": [
      "\n",
      "100%|██████████| 616/616 [13:23<00:00,  1.30s/it]"
     ]
    },
    {
     "name": "stdout",
     "output_type": "stream",
     "text": [
      "Epoch: 8 Train_loss: 0.001845310716570066 Train_F1: 0.0\n"
     ]
    },
    {
     "name": "stderr",
     "output_type": "stream",
     "text": [
      "\n",
      "100%|██████████| 154/154 [00:33<00:00,  4.56it/s]"
     ]
    },
    {
     "name": "stdout",
     "output_type": "stream",
     "text": [
      "Epoch: 8 Val_loss: 0.0018439076799708091 Val_F1: 0.0\n"
     ]
    },
    {
     "name": "stderr",
     "output_type": "stream",
     "text": [
      "\n",
      "100%|██████████| 616/616 [13:32<00:00,  1.32s/it]"
     ]
    },
    {
     "name": "stdout",
     "output_type": "stream",
     "text": [
      "Epoch: 9 Train_loss: 0.0018363828881071459 Train_F1: 0.0\n"
     ]
    },
    {
     "name": "stderr",
     "output_type": "stream",
     "text": [
      "\n",
      "100%|██████████| 154/154 [00:34<00:00,  4.49it/s]\n"
     ]
    },
    {
     "name": "stdout",
     "output_type": "stream",
     "text": [
      "Epoch: 9 Val_loss: 0.0017847101954463387 Val_F1: 0.0\n"
     ]
    }
   ],
   "source": [
    "#u,v = model_selection.train_test_split(train_df,stratify=train_df.fold, test_size=0.001, random_state=42)\n",
    "for i in range(5):\n",
    "    train(train_df, 10, i)"
   ]
  },
  {
   "cell_type": "code",
   "execution_count": 25,
   "id": "c75a5ae4",
   "metadata": {
    "execution": {
     "iopub.execute_input": "2023-01-23T03:43:36.481918Z",
     "iopub.status.busy": "2023-01-23T03:43:36.481546Z",
     "iopub.status.idle": "2023-01-23T03:43:36.488602Z",
     "shell.execute_reply": "2023-01-23T03:43:36.487647Z"
    },
    "papermill": {
     "duration": 2.125481,
     "end_time": "2023-01-23T03:43:36.490531",
     "exception": false,
     "start_time": "2023-01-23T03:43:34.365050",
     "status": "completed"
    },
    "tags": []
   },
   "outputs": [],
   "source": [
    "def test(test_dataset, model, device='cpu'):\n",
    "    preds=[]\n",
    "    \n",
    "    model.eval()\n",
    "    model=model.to(device)\n",
    "    for i in tqdm(range(len(test_dataset))):\n",
    "        img,label= test_dataset[i]\n",
    "        img= img.unsqueeze(0)\n",
    "        img= img.to(device)\n",
    "        label= label.to(device)\n",
    "        with torch.no_grad():\n",
    "            y_pred= model(img)\n",
    "            preds.append(y_pred.softmax(1).to('cpu').numpy())   \n",
    "\n",
    "    predictions = np.argmax(np.concatenate(preds),axis=1)\n",
    "    return predictions"
   ]
  },
  {
   "cell_type": "code",
   "execution_count": 26,
   "id": "034e67b4",
   "metadata": {
    "execution": {
     "iopub.execute_input": "2023-01-23T03:43:40.760114Z",
     "iopub.status.busy": "2023-01-23T03:43:40.759755Z",
     "iopub.status.idle": "2023-01-23T03:48:49.053583Z",
     "shell.execute_reply": "2023-01-23T03:48:49.052660Z"
    },
    "papermill": {
     "duration": 310.627511,
     "end_time": "2023-01-23T03:48:49.055619",
     "exception": false,
     "start_time": "2023-01-23T03:43:38.428108",
     "status": "completed"
    },
    "tags": []
   },
   "outputs": [
    {
     "name": "stderr",
     "output_type": "stream",
     "text": [
      "100%|██████████| 5489/5489 [01:24<00:00, 64.75it/s]\n",
      "100%|██████████| 5489/5489 [00:54<00:00, 100.50it/s]\n",
      "100%|██████████| 5489/5489 [00:54<00:00, 101.03it/s]\n",
      "100%|██████████| 5489/5489 [00:54<00:00, 100.08it/s]\n",
      "100%|██████████| 5489/5489 [00:56<00:00, 98.01it/s]"
     ]
    },
    {
     "name": "stdout",
     "output_type": "stream",
     "text": [
      "Holdout f1_score: 0.0\n"
     ]
    },
    {
     "name": "stderr",
     "output_type": "stream",
     "text": [
      "\n",
      "/opt/conda/lib/python3.7/site-packages/ipykernel_launcher.py:7: RuntimeWarning: invalid value encountered in long_scalars\n",
      "  import sys\n"
     ]
    }
   ],
   "source": [
    "test_dataset= TrainDataset(test_df, transform= get_transforms('valid'))\n",
    "device=torch.device('cuda:0' if torch.cuda.is_available() else 'cpu')\n",
    "tot_pred=[]\n",
    "tot_truth=[]\n",
    "\n",
    "for fold in range(5):\n",
    "    model= CustomNet(pretrained= False)\n",
    "    model.load_state_dict(torch.load(f'/kaggle/working/model{fold}.pth'))\n",
    "    preds=  test(test_dataset,model,device)\n",
    "    tot_pred.append(preds)\n",
    "    \n",
    "tot_pred= np.vstack(tot_pred)\n",
    "tot_pred= np.max(tot_pred,axis=0)\n",
    "tot_truth= test_df.cancer.values\n",
    "    \n",
    "score= get_score(tot_truth, tot_pred)\n",
    "print(f\"Holdout f1_score: {score}\")"
   ]
  },
  {
   "cell_type": "code",
   "execution_count": null,
   "id": "78b53a53",
   "metadata": {
    "papermill": {
     "duration": 2.085471,
     "end_time": "2023-01-23T03:48:53.432752",
     "exception": false,
     "start_time": "2023-01-23T03:48:51.347281",
     "status": "completed"
    },
    "tags": []
   },
   "outputs": [],
   "source": []
  }
 ],
 "metadata": {
  "kernelspec": {
   "display_name": "Python 3",
   "language": "python",
   "name": "python3"
  },
  "language_info": {
   "codemirror_mode": {
    "name": "ipython",
    "version": 3
   },
   "file_extension": ".py",
   "mimetype": "text/x-python",
   "name": "python",
   "nbconvert_exporter": "python",
   "pygments_lexer": "ipython3",
   "version": "3.7.12"
  },
  "papermill": {
   "default_parameters": {},
   "duration": 43177.548293,
   "end_time": "2023-01-23T03:48:58.085829",
   "environment_variables": {},
   "exception": null,
   "input_path": "__notebook__.ipynb",
   "output_path": "__notebook__.ipynb",
   "parameters": {},
   "start_time": "2023-01-22T15:49:20.537536",
   "version": "2.3.4"
  }
 },
 "nbformat": 4,
 "nbformat_minor": 5
}
